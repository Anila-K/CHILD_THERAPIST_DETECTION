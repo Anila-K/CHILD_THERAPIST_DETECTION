{
  "cells": [
    {
      "cell_type": "code",
      "execution_count": null,
      "metadata": {
        "id": "illaES7SUB8s"
      },
      "outputs": [],
      "source": [
        "!pip install roboflow\n",
        "\n",
        "from roboflow import Roboflow\n",
        "rf = Roboflow(api_key=\"oI0X6VlMsXHPih3eUd3t\")\n",
        "project = rf.workspace(\"projects-oje1y\").project(\"child-therapist-detection-fvxnw\")\n",
        "version = project.version(2)\n",
        "dataset = version.download(\"yolov8\")"
      ]
    },
    {
      "cell_type": "code",
      "execution_count": null,
      "metadata": {
        "id": "iwAdxaoXUQCa"
      },
      "outputs": [],
      "source": [
        "!pip install ultralytics"
      ]
    },
    {
      "cell_type": "code",
      "execution_count": null,
      "metadata": {
        "id": "str0lsaoUSpm"
      },
      "outputs": [],
      "source": [
        "from ultralytics import YOLO\n",
        "\n",
        "# Load the pre-trained YOLOv8n model\n",
        "model = YOLO('yolov8n.pt')  # You can use yolov8s.pt or any other version based on your needs\n",
        "\n",
        "# Train the model on your custom dataset\n",
        "model.train(\n",
        "    data='/content/child-therapist-detection-2/data.yaml',  # Dataset YAML file\n",
        "    epochs=50,        # Number of epochs to train for\n",
        "    imgsz=640,         # Image size to resize to\n",
        "    batch=8,          # Batch size\n",
        "    name='custom_yolo_model'  # Custom name for saving the model\n",
        ")"
      ]
    }
  ],
  "metadata": {
    "accelerator": "GPU",
    "colab": {
      "gpuType": "T4",
      "provenance": []
    },
    "kernelspec": {
      "display_name": "Python 3",
      "name": "python3"
    },
    "language_info": {
      "name": "python"
    }
  },
  "nbformat": 4,
  "nbformat_minor": 0
}